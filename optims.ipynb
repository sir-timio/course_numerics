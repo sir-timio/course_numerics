{
 "cells": [
  {
   "cell_type": "code",
   "execution_count": 135,
   "id": "f65c3a5d",
   "metadata": {},
   "outputs": [],
   "source": [
    "import cv2\n",
    "import matplotlib.pyplot as plt\n",
    "import numpy as np\n",
    "import pandas as pd\n",
    "from tqdm.notebook import tqdm_notebook as tqdm\n",
    "import time\n",
    "\n",
    "import torch\n",
    "import torchvision\n",
    "from torchvision import datasets\n",
    "from torchvision.transforms import ToTensor, Normalize\n",
    "from torch.utils.data import DataLoader, Subset\n",
    "from copy import deepcopy\n",
    "import json\n",
    "from sys import getsizeof"
   ]
  },
  {
   "cell_type": "code",
   "execution_count": 208,
   "id": "d271fc55",
   "metadata": {},
   "outputs": [],
   "source": [
    "SEED = 42\n",
    "np.random.seed(SEED)\n",
    "torch.seed = SEED"
   ]
  },
  {
   "cell_type": "code",
   "execution_count": 2,
   "id": "ad1969fe",
   "metadata": {},
   "outputs": [],
   "source": [
    "def imshow(image, label=None, figsize=(4,4), cmap='gray', **kwargs):\n",
    "    plt.figure(figsize=figsize)\n",
    "    if label is not None:\n",
    "        print(label)\n",
    "    plt.imshow(image, **kwargs, cmap=cmap)\n",
    "    plt.show()"
   ]
  },
  {
   "cell_type": "code",
   "execution_count": 3,
   "id": "b334a7a8",
   "metadata": {},
   "outputs": [],
   "source": [
    "#much faster and clear\n",
    "class Flatten:\n",
    "    def __call__(self, img):\n",
    "        return img.flatten()"
   ]
  },
  {
   "cell_type": "code",
   "execution_count": 4,
   "id": "732e7d54",
   "metadata": {},
   "outputs": [],
   "source": [
    "# class Normalize:\n",
    "#     def __call__(self, img):\n",
    "#         img = np.array(img)\n",
    "#         return (img - img.min()) / (img.max() - img.min()) - 0.5"
   ]
  },
  {
   "cell_type": "code",
   "execution_count": 5,
   "id": "4d22364c",
   "metadata": {},
   "outputs": [],
   "source": [
    "# import torchvision\n",
    "# from torchvision import datasets\n",
    "\n",
    "# class Normalize:\n",
    "#     def __call__(self, img):\n",
    "#         img = np.array(img)\n",
    "#         return (img - img.min()) / (img.max() - img.min()) - 0.5\n",
    "    \n",
    "# class Flatten:\n",
    "#     def __call__(self, img):\n",
    "#         # 1х28х28 -> 28х28\n",
    "#         img = img.squeeze()\n",
    "#         n, m = img.shape\n",
    "#         b = np.zeros(shape=(n*m))\n",
    "#         for i in range(n):\n",
    "#             for j in range(m):\n",
    "#                 b[i*m + j] = img[i][j]\n",
    "#         return b\n",
    "\n",
    "# transforms = torchvision.transforms.Compose([\n",
    "#     Normalize(),\n",
    "#     Flatten(),\n",
    "# ])\n",
    "\n",
    "# train_dataset = datasets.MNIST(root='data', train=True, download=True, transform=transforms)"
   ]
  },
  {
   "cell_type": "markdown",
   "id": "c0b5ed96",
   "metadata": {},
   "source": [
    "# Data"
   ]
  },
  {
   "cell_type": "code",
   "execution_count": 6,
   "id": "395d1ca0",
   "metadata": {},
   "outputs": [],
   "source": [
    "N = 28\n",
    "NUM_CLASSES = 10\n",
    "CLASSES = list(range(NUM_CLASSES))\n",
    "SEED = 42"
   ]
  },
  {
   "cell_type": "code",
   "execution_count": 7,
   "id": "0ac93a11",
   "metadata": {},
   "outputs": [],
   "source": [
    "transforms = torchvision.transforms.Compose([\n",
    "    ToTensor(),\n",
    "    Normalize((0.5, ), (1,)),\n",
    "    Flatten(),\n",
    "])"
   ]
  },
  {
   "cell_type": "code",
   "execution_count": 8,
   "id": "76d29dd5",
   "metadata": {},
   "outputs": [],
   "source": [
    "class OneHotEncoder():\n",
    "    def __init__(self, num_classes=10):\n",
    "        self.num_classes = num_classes\n",
    "        self.classes = list(range(num_classes))\n",
    "        self.mapping = {}\n",
    "        for i in range(self.num_classes):\n",
    "            self.mapping[self.classes[i]] = i\n",
    "        \n",
    "    def __call__(self, label):\n",
    "        vec = np.zeros(self.num_classes, dtype=int)\n",
    "        vec[self.mapping[label]] = 1\n",
    "        return vec\n",
    "\n",
    "target_transoforms = torchvision.transforms.Compose([\n",
    "    OneHotEncoder(NUM_CLASSES),\n",
    "])"
   ]
  },
  {
   "cell_type": "code",
   "execution_count": 609,
   "id": "c8208b7b",
   "metadata": {},
   "outputs": [],
   "source": [
    "# train_dataset = datasets.FashionMNIST(\n",
    "#     root='data', train=True, download=True, transform=transforms, target_transform=target_transoforms\n",
    "# )\n",
    "# train_loader = DataLoader(train_dataset, batch_size=64, shuffle=True)\n",
    "# test_dataset = datasets.FashionMNIST(root='data', train=False, download=True, transform=transforms, target_transform=target_transoforms)\n",
    "# test_loader = DataLoader(\n",
    "#     Subset(test_dataset, np.arange(1_000)), batch_size=64, shuffle=False)"
   ]
  },
  {
   "cell_type": "code",
   "execution_count": 9,
   "id": "e1faa561",
   "metadata": {},
   "outputs": [],
   "source": [
    "FASION_CLASSES = datasets.FashionMNIST(\n",
    "    root='data', train=True, download=True, transform=transforms, target_transform=target_transoforms\n",
    ").classes"
   ]
  },
  {
   "cell_type": "code",
   "execution_count": 221,
   "id": "62a66c23",
   "metadata": {},
   "outputs": [],
   "source": [
    "train_dataset = datasets.MNIST(root='data', train=True, download=True, transform=transforms, target_transform=target_transoforms)\n",
    "train_loader = DataLoader(train_dataset, batch_size=64, shuffle=True)\n",
    "test_dataset = datasets.MNIST(root='data', train=False, download=True, transform=transforms, target_transform=target_transoforms)\n",
    "test_loader = DataLoader(\n",
    "    Subset(test_dataset, np.arange(1_000)), batch_size=64, shuffle=False)"
   ]
  },
  {
   "cell_type": "code",
   "execution_count": 11,
   "id": "0d39feb5",
   "metadata": {},
   "outputs": [],
   "source": [
    "CLASSES = train_dataset.classes"
   ]
  },
  {
   "cell_type": "code",
   "execution_count": 12,
   "id": "f54298da",
   "metadata": {
    "scrolled": true
   },
   "outputs": [],
   "source": [
    "for img, label in test_loader:\n",
    "    break"
   ]
  },
  {
   "cell_type": "code",
   "execution_count": 13,
   "id": "8a267985",
   "metadata": {
    "scrolled": true
   },
   "outputs": [
    {
     "name": "stdout",
     "output_type": "stream",
     "text": [
      "7 - seven\n"
     ]
    },
    {
     "data": {
      "image/png": "[encoded data removed]",
      "text/plain": [
       "<Figure size 288x288 with 1 Axes>"
      ]
     },
     "metadata": {
      "needs_background": "light"
     },
     "output_type": "display_data"
    }
   ],
   "source": [
    "imshow(img[0].reshape(N, N), label=CLASSES[label[0].argmax().item()])"
   ]
  },
  {
   "cell_type": "code",
   "execution_count": 15,
   "id": "1bfac60b",
   "metadata": {
    "scrolled": true
   },
   "outputs": [
    {
     "data": {
      "image/png": "[encoded data removed]",
      "text/plain": [
       "<Figure size 1440x864 with 20 Axes>"
      ]
     },
     "metadata": {},
     "output_type": "display_data"
    }
   ],
   "source": [
    "images, labels = next(iter(train_loader))\n",
    "fig = plt.figure(figsize=(20, 12)) \n",
    "NROWS = 4\n",
    "NCOLS = 5\n",
    "\n",
    "for idx in np.arange(NROWS*NCOLS):\n",
    "    images, labels = next(iter(train_loader))\n",
    "    for img, label in zip(images, labels):\n",
    "        if label.argmax().item() == idx % 10:\n",
    "            break\n",
    "    ax = fig.add_subplot(NROWS, NCOLS, idx+1, xticks=[], yticks=[])\n",
    "    plt.imshow(img.reshape(N, N), cmap='gray')\n",
    "    ax.set_title(CLASSES[label.argmax().item()], fontsize=20)\n",
    "#     plt.imshow(images[idx].reshape(N, N), cmap='gray')\n",
    "#     ax.set_title(CLASSES[labels[idx].item()])\n",
    "plt.savefig('mnist')"
   ]
  },
  {
   "cell_type": "code",
   "execution_count": 16,
   "id": "99866481",
   "metadata": {},
   "outputs": [],
   "source": [
    "all_labels = []\n",
    "for imgs, labels in train_loader:\n",
    "    for label in labels:\n",
    "        all_labels.append(label.argmax().item())"
   ]
  },
  {
   "cell_type": "code",
   "execution_count": 17,
   "id": "f5f506ab",
   "metadata": {},
   "outputs": [],
   "source": [
    "pd.Series(all_labels).value_counts(1)"
   ]
  },
  {
   "cell_type": "code",
   "execution_count": 639,
   "id": "f0e32a60",
   "metadata": {},
   "outputs": [],
   "source": [
    "# fashion_all_labels = all_labels"
   ]
  },
  {
   "cell_type": "code",
   "execution_count": 646,
   "id": "579d9252",
   "metadata": {},
   "outputs": [],
   "source": [
    "CLASSES = list(range(10))"
   ]
  },
  {
   "cell_type": "code",
   "execution_count": 647,
   "id": "caada7b9",
   "metadata": {},
   "outputs": [
    {
     "data": {
      "image/png": "[encoded data removed]",
      "text/plain": [
       "<Figure size 576x144 with 1 Axes>"
      ]
     },
     "metadata": {
      "needs_background": "light"
     },
     "output_type": "display_data"
    }
   ],
   "source": [
    "plt.figure(figsize=(8, 2))\n",
    "plt.bar(CLASSES, np.bincount(all_labels)/len(all_labels))\n",
    "plt.xticks(CLASSES)\n",
    "plt.ylabel('частота')\n",
    "plt.xlabel('класс')\n",
    "plt.savefig('fashion_mnist_distrib', dpi=300)"
   ]
  },
  {
   "cell_type": "code",
   "execution_count": 668,
   "id": "667dfc1c",
   "metadata": {},
   "outputs": [
    {
     "data": {
      "image/png": "[encoded data removed]",
      "text/plain": [
       "<Figure size 720x432 with 2 Axes>"
      ]
     },
     "metadata": {
      "needs_background": "light"
     },
     "output_type": "display_data"
    }
   ],
   "source": [
    "fig, axs = plt.subplots(nrows=2, figsize=(10, 6))\n",
    "\n",
    "axs[0].bar(CLASSES, np.bincount(all_labels)/len(all_labels), color='orange')\n",
    "axs[0].set_xticks(CLASSES)\n",
    "axs[0].set_ylabel('частота')\n",
    "axs[0].legend(['MNIST'], prop={'size': 15}, loc='upper right')\n",
    "\n",
    "\n",
    "axs[1].bar(CLASSES, np.bincount(fashion_all_labels)/len(fashion_all_labels))\n",
    "axs[1].set_xticklabels(FASION_CLASSES, )\n",
    "axs[1].set_xticks(CLASSES)\n",
    "axs[0].set_xticks(CLASSES)\n",
    "axs[1].set_ylabel('частота')\n",
    "axs[1].legend(['Fashion MNIST'], prop={'size': 15}, loc='upper right')\n",
    "plt.savefig('distrib', dpi=300)"
   ]
  },
  {
   "cell_type": "markdown",
   "id": "9d9723e1",
   "metadata": {},
   "source": [
    "# Activations"
   ]
  },
  {
   "cell_type": "code",
   "execution_count": 18,
   "id": "1daf94d3",
   "metadata": {},
   "outputs": [],
   "source": [
    "class Tanh():\n",
    "    def forward(self, x):\n",
    "        self.old_y = (np.exp(x)-np.exp(-x))/(np.exp(x)+np.exp(-x))\n",
    "        return self.old_y\n",
    "    \n",
    "    def backward(self, grad):\n",
    "        return (1 - self.old_y**2) * grad"
   ]
  },
  {
   "cell_type": "code",
   "execution_count": 19,
   "id": "aa12210c",
   "metadata": {},
   "outputs": [],
   "source": [
    "class Sigmoid():\n",
    "    def forward(self, x):\n",
    "        self.old_y = np.exp(x) / (1 + np.exp(x))\n",
    "        return self.old_y\n",
    "\n",
    "    def backward(self, grad):\n",
    "        return self.old_y * (1 - self.old_y) * grad"
   ]
  },
  {
   "cell_type": "code",
   "execution_count": 20,
   "id": "79ccc731",
   "metadata": {},
   "outputs": [],
   "source": [
    "class ReLU():\n",
    "    def forward(self, x):\n",
    "        self.old_x = np.copy(x)\n",
    "        return np.clip(x, 0, None)\n",
    "\n",
    "    def backward(self, grad):\n",
    "        return np.where(self.old_x>0, grad, 0)"
   ]
  },
  {
   "cell_type": "code",
   "execution_count": 21,
   "id": "d5dfd63b",
   "metadata": {},
   "outputs": [],
   "source": [
    "class Softmax():\n",
    "    def forward(self,x):\n",
    "        self.old_y = np.exp(x) / np.exp(x).sum(axis=1)[:,np.newaxis]\n",
    "        return self.old_y\n",
    "\n",
    "    def backward(self,grad):\n",
    "        return self.old_y * (grad -(grad * self.old_y).sum(axis=1)[:,np.newaxis])"
   ]
  },
  {
   "cell_type": "code",
   "execution_count": 22,
   "id": "09204ffc",
   "metadata": {},
   "outputs": [],
   "source": [
    "a = Sigmoid()\n",
    "x = np.linspace(-8, 8, 100)"
   ]
  },
  {
   "cell_type": "code",
   "execution_count": 23,
   "id": "fa7ceef3",
   "metadata": {},
   "outputs": [
    {
     "data": {
      "image/png": "[encoded data removed]",
      "text/plain": [
       "<Figure size 576x288 with 1 Axes>"
      ]
     },
     "metadata": {
      "needs_background": "light"
     },
     "output_type": "display_data"
    }
   ],
   "source": [
    "plt.figure(figsize=(8, 4))\n",
    "plt.plot(x, a.forward(x))\n",
    "plt.plot(x, a.backward(1), '--')\n",
    "plt.legend(['σ','σ\\''], prop={'size': 15})\n",
    "plt.savefig('sigmoid')"
   ]
  },
  {
   "cell_type": "code",
   "execution_count": 25,
   "id": "b076f2bb",
   "metadata": {
    "scrolled": true
   },
   "outputs": [],
   "source": [
    "# activations = [Sigmoid(), ReLU(), Tanh()]\n",
    "# fig, axs = plt.subplots(nrows=len(activations), figsize=(10, 15))\n",
    "# x = np.linspace(-5, 5, 100)\n",
    "\n",
    "# for i, activation in enumerate(activations):\n",
    "#     axs[i].plot(activation.forward(x))\n",
    "#     axs[i].plot(activation.backward(1))\n",
    "#     axs[i].legend([activation.__class__.__name__, 'd_'+ activation.__class__.__name__], prop={'size': 15})"
   ]
  },
  {
   "cell_type": "markdown",
   "id": "a6dfd3ba",
   "metadata": {},
   "source": [
    "# Costs"
   ]
  },
  {
   "cell_type": "code",
   "execution_count": 46,
   "id": "1e58059a",
   "metadata": {},
   "outputs": [],
   "source": [
    "class MSE():\n",
    "    def forward(self, x, y):\n",
    "        self.old_x = x\n",
    "        self.old_y = y\n",
    "        return (1/2 * np.square(x-y)).mean()\n",
    "    \n",
    "    def backward(self):\n",
    "        return self.old_x - self.old_y"
   ]
  },
  {
   "cell_type": "markdown",
   "id": "7fb17d11",
   "metadata": {},
   "source": [
    "# Layer"
   ]
  },
  {
   "cell_type": "code",
   "execution_count": 29,
   "id": "6bb81c4d",
   "metadata": {},
   "outputs": [],
   "source": [
    "class Linear():\n",
    "    def __init__(self, n_in, n_out):\n",
    "        self.w = np.random.randn(n_in, n_out) * np.sqrt(2/n_in)\n",
    "        self.b = np.zeros(n_out)\n",
    "\n",
    "    def forward(self, x):\n",
    "        self.old_x = x\n",
    "        return np.dot(x, self.w) + self.b\n",
    "\n",
    "    def backward(self, grad):\n",
    "        self.grad_b = grad.mean(axis=0)\n",
    "        bs = grad.shape[0]\n",
    "        self.grad_w = (self.old_x.T @ grad) / bs\n",
    "        return np.dot(grad, self.w.T)"
   ]
  },
  {
   "cell_type": "markdown",
   "id": "0a231363",
   "metadata": {},
   "source": [
    "# Optimizer"
   ]
  },
  {
   "cell_type": "code",
   "execution_count": 185,
   "id": "d4d4ef20",
   "metadata": {},
   "outputs": [],
   "source": [
    "class SGD():\n",
    "    def __init__(self, lr=0.01):\n",
    "        self.lr = lr\n",
    "\n",
    "    def init_params(self, model):\n",
    "        self.layers = [l for l in model.layers if type(l) == Linear]\n",
    "\n",
    "    def step(self):\n",
    "        for layer in self.layers:\n",
    "            layer.w -= self.lr * layer.grad_w\n",
    "            layer.b -= self.lr * layer.grad_b\n",
    "            \n",
    "    def __sizeof__(self):\n",
    "        size = 0\n",
    "        return 0"
   ]
  },
  {
   "cell_type": "code",
   "execution_count": 187,
   "id": "f555d3c4",
   "metadata": {},
   "outputs": [],
   "source": [
    "class Momentum():\n",
    "    def __init__(self, lr=0.01, momentum=0.6):\n",
    "        self.m = momentum\n",
    "        self.lr = lr\n",
    "        \n",
    "    def init_params(self, model):\n",
    "        self.layers = [l  for l in model.layers if type(l) == Linear]\n",
    "        \n",
    "        self.velocity_w = []\n",
    "        self.velocity_b = []\n",
    "        for l in self.layers:\n",
    "            self.velocity_w.append(np.zeros_like(l.w))\n",
    "            self.velocity_b.append(np.zeros_like(l.b))\n",
    "            \n",
    "    def step(self):\n",
    "        for i, layer in enumerate(self.layers):\n",
    "            self.velocity_w[i] = self.m * self.velocity_w[i] + self.lr * layer.grad_w\n",
    "            self.velocity_b[i] = self.m * self.velocity_b[i] + self.lr * layer.grad_b\n",
    "            layer.w -= self.velocity_w[i]\n",
    "            layer.b -= self.velocity_b[i]\n",
    "            \n",
    "    def __sizeof__(self):\n",
    "        size = 0\n",
    "        for w, b in zip(self.velocity_w, self.velocity_b):\n",
    "            size += getsizeof(w)\n",
    "            size += getsizeof(b)\n",
    "        return size"
   ]
  },
  {
   "cell_type": "code",
   "execution_count": 188,
   "id": "8ce85c8c",
   "metadata": {},
   "outputs": [],
   "source": [
    "class Nesterov():\n",
    "    def __init__(self, lr=0.01, momentum=0.6):\n",
    "        self.m = momentum\n",
    "        self.lr = lr\n",
    "        \n",
    "    def init_params(self, model):\n",
    "        self.model = model\n",
    "        self.layers = [l  for l in model.layers if type(l) == Linear]\n",
    "        \n",
    "        self.velocity_w = []\n",
    "        self.velocity_b = []\n",
    "        for l in self.layers:\n",
    "            self.velocity_w.append(np.zeros_like(l.w))\n",
    "            self.velocity_b.append(np.zeros_like(l.b))\n",
    "        \n",
    "    def step(self):\n",
    "        # создаем копию модели\n",
    "        model_ahead = deepcopy(self.model)\n",
    "        ahead_layers = [l  for l in model_ahead.layers if type(l) == Linear]\n",
    "        # совершает шаг, получая модель из \"будущего\"\n",
    "        for i, layer in enumerate(ahead_layers):\n",
    "            layer.w -= self.m * self.velocity_w[i] \n",
    "            layer.b -= self.m * self.velocity_b[i]\n",
    "        # считаем новые градиенты\n",
    "        model_ahead.loss(self.model.cur_x, self.model.cur_y)\n",
    "        model_ahead.backward()\n",
    "        ahead_layers = [l  for l in model_ahead.layers if type(l) == Linear]\n",
    "        # к старым слоям применяем новые градиенты\n",
    "        for i, (ahead_layer, layer) in enumerate(zip(ahead_layers, self.layers)):\n",
    "            self.velocity_w[i] = self.m * self.velocity_w[i] + self.lr * ahead_layer.grad_w\n",
    "            self.velocity_b[i] = self.m * self.velocity_b[i] + self.lr * ahead_layer.grad_b\n",
    "            \n",
    "            layer.w -= self.velocity_w[i]\n",
    "            layer.b -= self.velocity_b[i]\n",
    "            \n",
    "    def __sizeof__(self):\n",
    "        size = 0\n",
    "        for w, b in zip(self.velocity_w, self.velocity_b):\n",
    "            size += getsizeof(w)\n",
    "            size += getsizeof(b)\n",
    "        for l in self.layers:\n",
    "            size += getsizeof(l.w)\n",
    "            size += getsizeof(l.b)\n",
    "        return size"
   ]
  },
  {
   "cell_type": "code",
   "execution_count": 189,
   "id": "5d3ba118",
   "metadata": {},
   "outputs": [],
   "source": [
    "class AdaGrad():\n",
    "    def __init__(self, lr=1):\n",
    "        self.lr = lr\n",
    "        self.eps = 1e-8\n",
    "        \n",
    "    def init_params(self, model):\n",
    "        self.model = model\n",
    "        self.layers = [l  for l in model.layers if type(l) == Linear]\n",
    "        \n",
    "        self.N_w = []\n",
    "        self.N_b = []\n",
    "        for l in self.layers:\n",
    "            self.N_w.append(np.zeros_like(l.w))\n",
    "            self.N_b.append(np.zeros_like(l.b))\n",
    "   \n",
    "    def step(self):\n",
    "        for i, layer in enumerate(self.layers):            \n",
    "            self.N_w[i] += layer.grad_w ** 2 \n",
    "            self.N_b[i] += layer.grad_b ** 2\n",
    "            \n",
    "            layer.w -= self.lr * layer.grad_w / (np.sqrt(self.N_w[i]) + self.eps)\n",
    "            layer.b -= self.lr * layer.grad_b / (np.sqrt(self.N_b[i]) + self.eps)\n",
    "            \n",
    "    def __sizeof__(self):\n",
    "        size = 0\n",
    "        for w, b in zip(self.N_w, self.N_b):\n",
    "            size += getsizeof(w)\n",
    "            size += getsizeof(b)\n",
    "        return size"
   ]
  },
  {
   "cell_type": "code",
   "execution_count": 190,
   "id": "09514e68",
   "metadata": {},
   "outputs": [],
   "source": [
    "class RMSprop():\n",
    "    def __init__(self, lr=0.01, decay=0.9):\n",
    "        self.lr = lr\n",
    "        self.decay = decay\n",
    "        self.eps = 1e-8\n",
    "        \n",
    "    def init_params(self, model):\n",
    "        self.model = model\n",
    "        self.layers = [l  for l in model.layers if type(l) == Linear]\n",
    "        \n",
    "        self.N_w = []\n",
    "        self.N_b = []\n",
    "        for l in self.layers:\n",
    "            self.N_w.append(np.zeros_like(l.w))\n",
    "            self.N_b.append(np.zeros_like(l.b))\n",
    "   \n",
    "    def step(self):\n",
    "        for i, layer in enumerate(self.layers):            \n",
    "            self.N_w[i] = self.decay * self.N_w[i] + (1-self.decay) * layer.grad_w ** 2\n",
    "            self.N_b[i] = self.decay * self.N_b[i] + (1-self.decay) * layer.grad_b ** 2\n",
    "            \n",
    "            layer.w -= self.lr * layer.grad_w / (np.sqrt(self.N_w[i]) + self.eps)\n",
    "            layer.b -= self.lr * layer.grad_b / (np.sqrt(self.N_b[i]) + self.eps)\n",
    "    \n",
    "    def __sizeof__(self):\n",
    "        size = 0\n",
    "        for w, b in zip(self.N_w, self.N_b):\n",
    "            size += getsizeof(w)\n",
    "            size += getsizeof(b)\n",
    "        return size"
   ]
  },
  {
   "cell_type": "code",
   "execution_count": 191,
   "id": "ca83879f",
   "metadata": {},
   "outputs": [],
   "source": [
    "class Adam():\n",
    "    def __init__(self, lr=0.01, beta1=0.9, beta2=0.999, l1=0, l2=0):\n",
    "        self.lr = lr\n",
    "        self.beta1 = beta1\n",
    "        self.beta2 = beta2\n",
    "        self.eps = 1e-8\n",
    "        self.l1 = l1\n",
    "        self.l2 = l2\n",
    "    \n",
    "    def init_params(self, model):\n",
    "        self.model = model\n",
    "        self.layers = [l  for l in model.layers if type(l) == Linear]\n",
    "                \n",
    "        self.M_w = []\n",
    "        self.M_b = []\n",
    "        \n",
    "        self.N_w = []\n",
    "        self.N_b = []\n",
    "        for l in self.layers:              \n",
    "            self.M_w.append(np.zeros_like(l.w))\n",
    "            self.M_b.append(np.zeros_like(l.b))\n",
    "            \n",
    "            self.N_w.append(np.zeros_like(l.w))\n",
    "            self.N_b.append(np.zeros_like(l.b))\n",
    "            \n",
    "   \n",
    "    def step(self):\n",
    "        t = self.model.cur_epoch + 1\n",
    "        for i, layer in enumerate(self.layers):\n",
    "            layer.grad_w += self.l1 * layer.w + self.l2 * np.sign(layer.w)\n",
    "\n",
    "            self.M_w[i] = self.beta1 * self.M_w[i] + (1 - self.beta1) * layer.grad_w\n",
    "            self.M_b[i] = self.beta1 * self.M_b[i] + (1 - self.beta1) * layer.grad_b\n",
    "\n",
    "\n",
    "            self.N_w[i] = self.beta2 * self.N_w[i] + (1 - self.beta2) * layer.grad_w ** 2\n",
    "            self.N_b[i] = self.beta2 * self.N_b[i] + (1 - self.beta2) * layer.grad_b ** 2\n",
    "            \n",
    "            m_w_hat = self.M_w[i] / (1 - self.beta1 ** t)\n",
    "            m_b_hat = self.M_b[i] / (1 - self.beta1 ** t)\n",
    "            \n",
    "            n_w_hat = self.N_w[i] / (1 - self.beta2 ** t)\n",
    "            n_b_hat = self.N_b[i] / (1 - self.beta2 ** t)\n",
    "\n",
    "\n",
    "            layer.w -= self.lr * m_w_hat / (np.sqrt(n_w_hat) + self.eps)\n",
    "            layer.b -= self.lr * m_b_hat / (np.sqrt(n_b_hat) + self.eps)\n",
    "    \n",
    "    def __sizeof__(self):\n",
    "        size = 0\n",
    "        for w, b in zip(self.N_w, self.N_b):\n",
    "            size += getsizeof(w)\n",
    "            size += getsizeof(b)\n",
    "        \n",
    "        for w, b in zip(self.M_w, self.M_b):\n",
    "            size += getsizeof(w)\n",
    "            size += getsizeof(b)\n",
    "        return size"
   ]
  },
  {
   "cell_type": "markdown",
   "id": "542dc045",
   "metadata": {},
   "source": [
    "# Model "
   ]
  },
  {
   "cell_type": "code",
   "execution_count": 193,
   "id": "6a2df0ae",
   "metadata": {},
   "outputs": [],
   "source": [
    "class Model():\n",
    "    def __init__(self, layers, cost, optimizer):\n",
    "        self.layers = layers\n",
    "        self.cost = cost\n",
    "        self.optimizer = optimizer\n",
    "        self.optimizer.init_params(self)\n",
    "        \n",
    "    def forward(self,x):\n",
    "        for layer in self.layers:\n",
    "            x = layer.forward(x)\n",
    "        return x\n",
    "\n",
    "    def loss(self,x,y):\n",
    "        return self.cost.forward(self.forward(x), y)\n",
    "\n",
    "    def backward(self):\n",
    "        grad = self.cost.backward()\n",
    "        for i in range(len(self.layers)-1, -1, -1):\n",
    "            grad = self.layers[i].backward(grad)\n",
    "            \n",
    "            \n",
    "#     def train(self, train_loader, epochs):\n",
    "#         # итерация по эпохам\n",
    "#         for epoch in range(epochs):\n",
    "#             # итерация по пакетам\n",
    "#             for x, y in train_loader:\n",
    "#                 # прямой проход и рассчет потерь\n",
    "#                 self.loss(x, y)\n",
    "#                 # обратный проход, накопление градиентов\n",
    "#                 self.backward()\n",
    "#                 # шаг оптимизатора\n",
    "#                 self.optimazier.step()\n",
    "                \n",
    "\n",
    "    def train(self, train_loader, test_loader, epochs, num_samples=10_000, verbose=16):\n",
    "        train_accs = []\n",
    "        test_accs = []\n",
    "        train_losses = []\n",
    "        test_losses = []\n",
    "        times = []\n",
    "        for epoch in tqdm(range(epochs)):\n",
    "            samples = 0\n",
    "            self.cur_epoch = epoch\n",
    "            for i, (img, label) in enumerate(train_loader):\n",
    "                bs = img.shape[0]\n",
    "                x, y = img.numpy(), label.numpy()\n",
    "                self.cur_x, self.cur_y = x, y\n",
    "                \n",
    "                # train loss calc\n",
    "                train_loss = self.loss(x, y)\n",
    "                self.backward()\n",
    "                \n",
    "                # train preds calc acc\n",
    "                train_preds = np.argmax(np.array(self.forward(x)), axis=1)\n",
    "                train_labels = label.argmax(axis=1).numpy()\n",
    "                \n",
    "                t = time.time()\n",
    "                self.optimizer.step()\n",
    "                times.append(time.time() - t)\n",
    "\n",
    "                if i % verbose == 0:\n",
    "                    train_accs.append(sum(train_labels == train_preds) / len(train_preds))\n",
    "                    train_losses.append(train_loss)\n",
    "                    \n",
    "                    test_acc, test_loss = self.validate(test_loader)\n",
    "                    test_accs.append(test_acc)\n",
    "                    test_losses.append(test_loss)\n",
    "\n",
    "                samples += bs\n",
    "                \n",
    "                if samples > num_samples:\n",
    "                    break\n",
    "            \n",
    "        return train_accs, train_losses, test_accs, test_losses, times\n",
    "    \n",
    "    def validate(self, loader):\n",
    "        losses = []\n",
    "        accs = []\n",
    "        for img, label in loader:\n",
    "            bs = img.shape[0]\n",
    "            y = label.numpy()\n",
    "            x = img.numpy()\n",
    "            \n",
    "            preds = np.argmax(np.array(self.forward(x)), axis=1)\n",
    "            labels = label.argmax(axis=1).numpy()\n",
    "            \n",
    "            accs.append(sum(labels == preds) / len(preds))\n",
    "            losses.append(self.loss(x, y))\n",
    "            \n",
    "        return np.mean(accs), np.mean(losses)"
   ]
  },
  {
   "cell_type": "code",
   "execution_count": 214,
   "id": "135d37ae",
   "metadata": {},
   "outputs": [],
   "source": [
    "BATCH_SIZE = 64\n",
    "DATASET_NAME = train_dataset.__class__.__name__\n",
    "train_loader = DataLoader(train_dataset, batch_size=BATCH_SIZE, shuffle=True)"
   ]
  },
  {
   "cell_type": "code",
   "execution_count": 195,
   "id": "6aca4fb3",
   "metadata": {},
   "outputs": [],
   "source": [
    "layers = [Linear(784, 10), Sigmoid()]"
   ]
  },
  {
   "cell_type": "code",
   "execution_count": 227,
   "id": "b7491659",
   "metadata": {},
   "outputs": [],
   "source": [
    "EPOCHS = 40\n",
    "LRS = [0.001, 0.01, 0.1, 1]\n",
    "LAYERS = [\n",
    "    [Linear(784, 100), Sigmoid(), Linear(100, 10)],\n",
    "    [Linear(784, 100), Sigmoid(), Linear(100, 100), Sigmoid(), Linear(100, 10)],\n",
    "    [Linear(784, 256), Sigmoid(), Linear(256, 128), Sigmoid(), Linear(128, 64), Sigmoid(), Linear(64, 10)],\n",
    "]\n",
    "LAYER_NAMES = [\n",
    "    '784-100-10',\n",
    "    '784-100-100-10',\n",
    "    '784-256-128-64-10',\n",
    "]"
   ]
  },
  {
   "cell_type": "code",
   "execution_count": 228,
   "id": "836cda6f",
   "metadata": {},
   "outputs": [],
   "source": [
    "df = pd.DataFrame(\n",
    "    columns=[\n",
    "        'optim', 'dataset', 'epochs', 'name',\n",
    "        'best_epoch', 'lr',\n",
    "        'time', 'memory',\n",
    "        'best_accuracy', 'best_loss',\n",
    "        'train_accuracies', 'train_losses', \n",
    "        'test_accuracies', 'test_losses'\n",
    "    ]\n",
    ")"
   ]
  },
  {
   "cell_type": "code",
   "execution_count": 233,
   "id": "938fed7f",
   "metadata": {},
   "outputs": [],
   "source": [
    "names = []"
   ]
  },
  {
   "cell_type": "code",
   "execution_count": 229,
   "id": "6f1a7de7",
   "metadata": {},
   "outputs": [
    {
     "data": {
      "application/vnd.jupyter.widget-view+json": {
       "model_id": "eb05939eb60142f480f080215330338c",
       "version_major": 2,
       "version_minor": 0
      },
      "text/plain": [
       "  0%|          | 0/40 [00:00<?, ?it/s]"
      ]
     },
     "metadata": {},
     "output_type": "display_data"
    },
    {
     "data": {
      "application/vnd.jupyter.widget-view+json": {
       "model_id": "2305c322bc804793bc18e1ccb3863bc8",
       "version_major": 2,
       "version_minor": 0
      },
      "text/plain": [
       "  0%|          | 0/40 [00:00<?, ?it/s]"
      ]
     },
     "metadata": {},
     "output_type": "display_data"
    },
    {
     "data": {
      "application/vnd.jupyter.widget-view+json": {
       "model_id": "105f640a89e14614b35f328086474b17",
       "version_major": 2,
       "version_minor": 0
      },
      "text/plain": [
       "  0%|          | 0/40 [00:00<?, ?it/s]"
      ]
     },
     "metadata": {},
     "output_type": "display_data"
    },
    {
     "data": {
      "application/vnd.jupyter.widget-view+json": {
       "model_id": "3a249258e92d44519e249b94f970dc09",
       "version_major": 2,
       "version_minor": 0
      },
      "text/plain": [
       "  0%|          | 0/40 [00:00<?, ?it/s]"
      ]
     },
     "metadata": {},
     "output_type": "display_data"
    },
    {
     "data": {
      "application/vnd.jupyter.widget-view+json": {
       "model_id": "4b2b2c9818ce4ed0a22f992ad3d83d79",
       "version_major": 2,
       "version_minor": 0
      },
      "text/plain": [
       "  0%|          | 0/40 [00:00<?, ?it/s]"
      ]
     },
     "metadata": {},
     "output_type": "display_data"
    },
    {
     "data": {
      "application/vnd.jupyter.widget-view+json": {
       "model_id": "3465557747a94acdb9c45486d7261e92",
       "version_major": 2,
       "version_minor": 0
      },
      "text/plain": [
       "  0%|          | 0/40 [00:00<?, ?it/s]"
      ]
     },
     "metadata": {},
     "output_type": "display_data"
    },
    {
     "data": {
      "application/vnd.jupyter.widget-view+json": {
       "model_id": "d6af82b4fc544889aee95240496f3d3c",
       "version_major": 2,
       "version_minor": 0
      },
      "text/plain": [
       "  0%|          | 0/40 [00:00<?, ?it/s]"
      ]
     },
     "metadata": {},
     "output_type": "display_data"
    },
    {
     "data": {
      "application/vnd.jupyter.widget-view+json": {
       "model_id": "8ee6260ab65b43f790b78ef453e7c6dc",
       "version_major": 2,
       "version_minor": 0
      },
      "text/plain": [
       "  0%|          | 0/40 [00:00<?, ?it/s]"
      ]
     },
     "metadata": {},
     "output_type": "display_data"
    },
    {
     "data": {
      "application/vnd.jupyter.widget-view+json": {
       "model_id": "0eea7910a56144899b8f36fbf7a30689",
       "version_major": 2,
       "version_minor": 0
      },
      "text/plain": [
       "  0%|          | 0/40 [00:00<?, ?it/s]"
      ]
     },
     "metadata": {},
     "output_type": "display_data"
    },
    {
     "data": {
      "application/vnd.jupyter.widget-view+json": {
       "model_id": "3018ad311cda493d8a72d54bb6f18d66",
       "version_major": 2,
       "version_minor": 0
      },
      "text/plain": [
       "  0%|          | 0/40 [00:00<?, ?it/s]"
      ]
     },
     "metadata": {},
     "output_type": "display_data"
    },
    {
     "data": {
      "application/vnd.jupyter.widget-view+json": {
       "model_id": "cdaf26789098465e8e4134963f155863",
       "version_major": 2,
       "version_minor": 0
      },
      "text/plain": [
       "  0%|          | 0/40 [00:00<?, ?it/s]"
      ]
     },
     "metadata": {},
     "output_type": "display_data"
    },
    {
     "data": {
      "application/vnd.jupyter.widget-view+json": {
       "model_id": "56f7fa7aa1a043599f25e129ef234228",
       "version_major": 2,
       "version_minor": 0
      },
      "text/plain": [
       "  0%|          | 0/40 [00:00<?, ?it/s]"
      ]
     },
     "metadata": {},
     "output_type": "display_data"
    },
    {
     "data": {
      "application/vnd.jupyter.widget-view+json": {
       "model_id": "0d6039aa59944569a9dcdb0d5e327139",
       "version_major": 2,
       "version_minor": 0
      },
      "text/plain": [
       "  0%|          | 0/40 [00:00<?, ?it/s]"
      ]
     },
     "metadata": {},
     "output_type": "display_data"
    },
    {
     "data": {
      "application/vnd.jupyter.widget-view+json": {
       "model_id": "07b2b77e1b5340dc8f5d225d6034beb2",
       "version_major": 2,
       "version_minor": 0
      },
      "text/plain": [
       "  0%|          | 0/40 [00:00<?, ?it/s]"
      ]
     },
     "metadata": {},
     "output_type": "display_data"
    },
    {
     "data": {
      "application/vnd.jupyter.widget-view+json": {
       "model_id": "8f6890d5455f4c58a32715b887e8f88c",
       "version_major": 2,
       "version_minor": 0
      },
      "text/plain": [
       "  0%|          | 0/40 [00:00<?, ?it/s]"
      ]
     },
     "metadata": {},
     "output_type": "display_data"
    },
    {
     "data": {
      "application/vnd.jupyter.widget-view+json": {
       "model_id": "7a6e178dd4604bb785de181604c096c8",
       "version_major": 2,
       "version_minor": 0
      },
      "text/plain": [
       "  0%|          | 0/40 [00:00<?, ?it/s]"
      ]
     },
     "metadata": {},
     "output_type": "display_data"
    },
    {
     "data": {
      "application/vnd.jupyter.widget-view+json": {
       "model_id": "aec0f1e2a1174fa68bb2e51c79a8c9cc",
       "version_major": 2,
       "version_minor": 0
      },
      "text/plain": [
       "  0%|          | 0/40 [00:00<?, ?it/s]"
      ]
     },
     "metadata": {},
     "output_type": "display_data"
    },
    {
     "data": {
      "application/vnd.jupyter.widget-view+json": {
       "model_id": "1cf53ff6c940432dbb6c4f2497b68da3",
       "version_major": 2,
       "version_minor": 0
      },
      "text/plain": [
       "  0%|          | 0/40 [00:00<?, ?it/s]"
      ]
     },
     "metadata": {},
     "output_type": "display_data"
    },
    {
     "data": {
      "application/vnd.jupyter.widget-view+json": {
       "model_id": "62ba2a1f73254a6aadfccdc2f3394a3f",
       "version_major": 2,
       "version_minor": 0
      },
      "text/plain": [
       "  0%|          | 0/40 [00:00<?, ?it/s]"
      ]
     },
     "metadata": {},
     "output_type": "display_data"
    },
    {
     "data": {
      "application/vnd.jupyter.widget-view+json": {
       "model_id": "7abc47e2bd5449ca96e535e4dc61d6ea",
       "version_major": 2,
       "version_minor": 0
      },
      "text/plain": [
       "  0%|          | 0/40 [00:00<?, ?it/s]"
      ]
     },
     "metadata": {},
     "output_type": "display_data"
    },
    {
     "data": {
      "application/vnd.jupyter.widget-view+json": {
       "model_id": "f5b33393a9084203ac0a6bc673afbd40",
       "version_major": 2,
       "version_minor": 0
      },
      "text/plain": [
       "  0%|          | 0/40 [00:00<?, ?it/s]"
      ]
     },
     "metadata": {},
     "output_type": "display_data"
    },
    {
     "data": {
      "application/vnd.jupyter.widget-view+json": {
       "model_id": "031e3e4fbb1848a6bae17559b2090a4d",
       "version_major": 2,
       "version_minor": 0
      },
      "text/plain": [
       "  0%|          | 0/40 [00:00<?, ?it/s]"
      ]
     },
     "metadata": {},
     "output_type": "display_data"
    },
    {
     "data": {
      "application/vnd.jupyter.widget-view+json": {
       "model_id": "b9ffc41fbfeb446389ebbb80928a9d0a",
       "version_major": 2,
       "version_minor": 0
      },
      "text/plain": [
       "  0%|          | 0/40 [00:00<?, ?it/s]"
      ]
     },
     "metadata": {},
     "output_type": "display_data"
    },
    {
     "data": {
      "application/vnd.jupyter.widget-view+json": {
       "model_id": "555d353312c846ae8ac4ad3602277688",
       "version_major": 2,
       "version_minor": 0
      },
      "text/plain": [
       "  0%|          | 0/40 [00:00<?, ?it/s]"
      ]
     },
     "metadata": {},
     "output_type": "display_data"
    },
    {
     "data": {
      "application/vnd.jupyter.widget-view+json": {
       "model_id": "24eb6a1da8d74788b7c6a35a28ab8fcd",
       "version_major": 2,
       "version_minor": 0
      },
      "text/plain": [
       "  0%|          | 0/40 [00:00<?, ?it/s]"
      ]
     },
     "metadata": {},
     "output_type": "display_data"
    },
    {
     "data": {
      "application/vnd.jupyter.widget-view+json": {
       "model_id": "2b7d99cb8e56431993fc935bd0c9b504",
       "version_major": 2,
       "version_minor": 0
      },
      "text/plain": [
       "  0%|          | 0/40 [00:00<?, ?it/s]"
      ]
     },
     "metadata": {},
     "output_type": "display_data"
    },
    {
     "data": {
      "application/vnd.jupyter.widget-view+json": {
       "model_id": "eaf800da9a8847578d0fe2746cd91c28",
       "version_major": 2,
       "version_minor": 0
      },
      "text/plain": [
       "  0%|          | 0/40 [00:00<?, ?it/s]"
      ]
     },
     "metadata": {},
     "output_type": "display_data"
    },
    {
     "data": {
      "application/vnd.jupyter.widget-view+json": {
       "model_id": "37b7086ab87d42dcad528b75e660e34d",
       "version_major": 2,
       "version_minor": 0
      },
      "text/plain": [
       "  0%|          | 0/40 [00:00<?, ?it/s]"
      ]
     },
     "metadata": {},
     "output_type": "display_data"
    },
    {
     "data": {
      "application/vnd.jupyter.widget-view+json": {
       "model_id": "3c8df1b1ec854867a443713d08e6d3c3",
       "version_major": 2,
       "version_minor": 0
      },
      "text/plain": [
       "  0%|          | 0/40 [00:00<?, ?it/s]"
      ]
     },
     "metadata": {},
     "output_type": "display_data"
    },
    {
     "data": {
      "application/vnd.jupyter.widget-view+json": {
       "model_id": "f98095e8385d4c38ba398cb7dfc69606",
       "version_major": 2,
       "version_minor": 0
      },
      "text/plain": [
       "  0%|          | 0/40 [00:00<?, ?it/s]"
      ]
     },
     "metadata": {},
     "output_type": "display_data"
    },
    {
     "data": {
      "application/vnd.jupyter.widget-view+json": {
       "model_id": "02ba59576a1441b88ed63292af740722",
       "version_major": 2,
       "version_minor": 0
      },
      "text/plain": [
       "  0%|          | 0/40 [00:00<?, ?it/s]"
      ]
     },
     "metadata": {},
     "output_type": "display_data"
    },
    {
     "data": {
      "application/vnd.jupyter.widget-view+json": {
       "model_id": "4c06a9e75a664b48bfebf0c07e2e3598",
       "version_major": 2,
       "version_minor": 0
      },
      "text/plain": [
       "  0%|          | 0/40 [00:00<?, ?it/s]"
      ]
     },
     "metadata": {},
     "output_type": "display_data"
    },
    {
     "data": {
      "application/vnd.jupyter.widget-view+json": {
       "model_id": "f562056d938b43d88a5d2347f336dfde",
       "version_major": 2,
       "version_minor": 0
      },
      "text/plain": [
       "  0%|          | 0/40 [00:00<?, ?it/s]"
      ]
     },
     "metadata": {},
     "output_type": "display_data"
    },
    {
     "data": {
      "application/vnd.jupyter.widget-view+json": {
       "model_id": "dd86ffb69f894a55a1460126a66a5ef5",
       "version_major": 2,
       "version_minor": 0
      },
      "text/plain": [
       "  0%|          | 0/40 [00:00<?, ?it/s]"
      ]
     },
     "metadata": {},
     "output_type": "display_data"
    },
    {
     "data": {
      "application/vnd.jupyter.widget-view+json": {
       "model_id": "bc99a38ee02e43de86fe3ba20c447336",
       "version_major": 2,
       "version_minor": 0
      },
      "text/plain": [
       "  0%|          | 0/40 [00:00<?, ?it/s]"
      ]
     },
     "metadata": {},
     "output_type": "display_data"
    },
    {
     "data": {
      "application/vnd.jupyter.widget-view+json": {
       "model_id": "f079cb2d7cee48c3bb16b8862c5f2853",
       "version_major": 2,
       "version_minor": 0
      },
      "text/plain": [
       "  0%|          | 0/40 [00:00<?, ?it/s]"
      ]
     },
     "metadata": {},
     "output_type": "display_data"
    },
    {
     "data": {
      "application/vnd.jupyter.widget-view+json": {
       "model_id": "2afd2e3e47db48b5b36a2808f01834c6",
       "version_major": 2,
       "version_minor": 0
      },
      "text/plain": [
       "  0%|          | 0/40 [00:00<?, ?it/s]"
      ]
     },
     "metadata": {},
     "output_type": "display_data"
    },
    {
     "data": {
      "application/vnd.jupyter.widget-view+json": {
       "model_id": "4a123a88f39f4f93b59c792947885b36",
       "version_major": 2,
       "version_minor": 0
      },
      "text/plain": [
       "  0%|          | 0/40 [00:00<?, ?it/s]"
      ]
     },
     "metadata": {},
     "output_type": "display_data"
    },
    {
     "data": {
      "application/vnd.jupyter.widget-view+json": {
       "model_id": "f551acb13cde4cdcb22a42b4703f7cf5",
       "version_major": 2,
       "version_minor": 0
      },
      "text/plain": [
       "  0%|          | 0/40 [00:00<?, ?it/s]"
      ]
     },
     "metadata": {},
     "output_type": "display_data"
    },
    {
     "name": "stderr",
     "output_type": "stream",
     "text": [
      "/Users/timur/.pyenv/versions/3.7.10/lib/python3.7/site-packages/ipykernel_launcher.py:3: RuntimeWarning: overflow encountered in exp\n",
      "  This is separate from the ipykernel package so we can avoid doing imports until\n",
      "/Users/timur/.pyenv/versions/3.7.10/lib/python3.7/site-packages/ipykernel_launcher.py:3: RuntimeWarning: invalid value encountered in true_divide\n",
      "  This is separate from the ipykernel package so we can avoid doing imports until\n"
     ]
    },
    {
     "data": {
      "application/vnd.jupyter.widget-view+json": {
       "model_id": "b22f2fceb5594bf395c5749349769344",
       "version_major": 2,
       "version_minor": 0
      },
      "text/plain": [
       "  0%|          | 0/40 [00:00<?, ?it/s]"
      ]
     },
     "metadata": {},
     "output_type": "display_data"
    },
    {
     "data": {
      "application/vnd.jupyter.widget-view+json": {
       "model_id": "cfbe2da572834e0ca56773232816d283",
       "version_major": 2,
       "version_minor": 0
      },
      "text/plain": [
       "  0%|          | 0/40 [00:00<?, ?it/s]"
      ]
     },
     "metadata": {},
     "output_type": "display_data"
    },
    {
     "data": {
      "application/vnd.jupyter.widget-view+json": {
       "model_id": "ff4e7eb870294812a5db33f1a9632b9e",
       "version_major": 2,
       "version_minor": 0
      },
      "text/plain": [
       "  0%|          | 0/40 [00:00<?, ?it/s]"
      ]
     },
     "metadata": {},
     "output_type": "display_data"
    },
    {
     "data": {
      "application/vnd.jupyter.widget-view+json": {
       "model_id": "af316d47594f44b0a863ab79f1015b0d",
       "version_major": 2,
       "version_minor": 0
      },
      "text/plain": [
       "  0%|          | 0/40 [00:00<?, ?it/s]"
      ]
     },
     "metadata": {},
     "output_type": "display_data"
    },
    {
     "data": {
      "application/vnd.jupyter.widget-view+json": {
       "model_id": "5392fb78c1bd4bb4a721d547dec5f750",
       "version_major": 2,
       "version_minor": 0
      },
      "text/plain": [
       "  0%|          | 0/40 [00:00<?, ?it/s]"
      ]
     },
     "metadata": {},
     "output_type": "display_data"
    },
    {
     "data": {
      "application/vnd.jupyter.widget-view+json": {
       "model_id": "bfc2f063b0c64bc6a6877f78cfc48b38",
       "version_major": 2,
       "version_minor": 0
      },
      "text/plain": [
       "  0%|          | 0/40 [00:00<?, ?it/s]"
      ]
     },
     "metadata": {},
     "output_type": "display_data"
    },
    {
     "data": {
      "application/vnd.jupyter.widget-view+json": {
       "model_id": "85697cc61a0c4e02baae05675b5890c9",
       "version_major": 2,
       "version_minor": 0
      },
      "text/plain": [
       "  0%|          | 0/40 [00:00<?, ?it/s]"
      ]
     },
     "metadata": {},
     "output_type": "display_data"
    },
    {
     "data": {
      "application/vnd.jupyter.widget-view+json": {
       "model_id": "31c029da49dc41909c6202fe8daeda51",
       "version_major": 2,
       "version_minor": 0
      },
      "text/plain": [
       "  0%|          | 0/40 [00:00<?, ?it/s]"
      ]
     },
     "metadata": {},
     "output_type": "display_data"
    },
    {
     "data": {
      "application/vnd.jupyter.widget-view+json": {
       "model_id": "5152efecd42a4961a764a701a5407d62",
       "version_major": 2,
       "version_minor": 0
      },
      "text/plain": [
       "  0%|          | 0/40 [00:00<?, ?it/s]"
      ]
     },
     "metadata": {},
     "output_type": "display_data"
    },
    {
     "data": {
      "application/vnd.jupyter.widget-view+json": {
       "model_id": "1222c282f705469fa35df51116575a5d",
       "version_major": 2,
       "version_minor": 0
      },
      "text/plain": [
       "  0%|          | 0/40 [00:00<?, ?it/s]"
      ]
     },
     "metadata": {},
     "output_type": "display_data"
    },
    {
     "data": {
      "application/vnd.jupyter.widget-view+json": {
       "model_id": "f4d55953fa4547a4b4b0b79eb0db9213",
       "version_major": 2,
       "version_minor": 0
      },
      "text/plain": [
       "  0%|          | 0/40 [00:00<?, ?it/s]"
      ]
     },
     "metadata": {},
     "output_type": "display_data"
    },
    {
     "data": {
      "application/vnd.jupyter.widget-view+json": {
       "model_id": "54e6f8cfb27b461f941df8256b8701fb",
       "version_major": 2,
       "version_minor": 0
      },
      "text/plain": [
       "  0%|          | 0/40 [00:00<?, ?it/s]"
      ]
     },
     "metadata": {},
     "output_type": "display_data"
    },
    {
     "data": {
      "application/vnd.jupyter.widget-view+json": {
       "model_id": "6a56af521b0c4ccb9256fa0c6e537a6d",
       "version_major": 2,
       "version_minor": 0
      },
      "text/plain": [
       "  0%|          | 0/40 [00:00<?, ?it/s]"
      ]
     },
     "metadata": {},
     "output_type": "display_data"
    },
    {
     "data": {
      "application/vnd.jupyter.widget-view+json": {
       "model_id": "0e598422c78b4fe7855cc1dc3a0242b3",
       "version_major": 2,
       "version_minor": 0
      },
      "text/plain": [
       "  0%|          | 0/40 [00:00<?, ?it/s]"
      ]
     },
     "metadata": {},
     "output_type": "display_data"
    },
    {
     "data": {
      "application/vnd.jupyter.widget-view+json": {
       "model_id": "f7096a46854b4b648e5a0f63029ad5e5",
       "version_major": 2,
       "version_minor": 0
      },
      "text/plain": [
       "  0%|          | 0/40 [00:00<?, ?it/s]"
      ]
     },
     "metadata": {},
     "output_type": "display_data"
    },
    {
     "data": {
      "application/vnd.jupyter.widget-view+json": {
       "model_id": "a6ad43e17917420e8b8b84d3660af044",
       "version_major": 2,
       "version_minor": 0
      },
      "text/plain": [
       "  0%|          | 0/40 [00:00<?, ?it/s]"
      ]
     },
     "metadata": {},
     "output_type": "display_data"
    },
    {
     "data": {
      "application/vnd.jupyter.widget-view+json": {
       "model_id": "33f0f4cc95b644fca8b565df64c1010b",
       "version_major": 2,
       "version_minor": 0
      },
      "text/plain": [
       "  0%|          | 0/40 [00:00<?, ?it/s]"
      ]
     },
     "metadata": {},
     "output_type": "display_data"
    },
    {
     "data": {
      "application/vnd.jupyter.widget-view+json": {
       "model_id": "10736c3dd994425c9c7705e0403a0c66",
       "version_major": 2,
       "version_minor": 0
      },
      "text/plain": [
       "  0%|          | 0/40 [00:00<?, ?it/s]"
      ]
     },
     "metadata": {},
     "output_type": "display_data"
    },
    {
     "data": {
      "application/vnd.jupyter.widget-view+json": {
       "model_id": "846ddf8664fd4d66b30702738d8818ab",
       "version_major": 2,
       "version_minor": 0
      },
      "text/plain": [
       "  0%|          | 0/40 [00:00<?, ?it/s]"
      ]
     },
     "metadata": {},
     "output_type": "display_data"
    },
    {
     "data": {
      "application/vnd.jupyter.widget-view+json": {
       "model_id": "29a92dffce644da485829b9680f74988",
       "version_major": 2,
       "version_minor": 0
      },
      "text/plain": [
       "  0%|          | 0/40 [00:00<?, ?it/s]"
      ]
     },
     "metadata": {},
     "output_type": "display_data"
    },
    {
     "data": {
      "application/vnd.jupyter.widget-view+json": {
       "model_id": "1b24762aca554a50a0ed76c8f4f5808a",
       "version_major": 2,
       "version_minor": 0
      },
      "text/plain": [
       "  0%|          | 0/40 [00:00<?, ?it/s]"
      ]
     },
     "metadata": {},
     "output_type": "display_data"
    },
    {
     "data": {
      "application/vnd.jupyter.widget-view+json": {
       "model_id": "d3abefe4ada044e18a5255daad9637c4",
       "version_major": 2,
       "version_minor": 0
      },
      "text/plain": [
       "  0%|          | 0/40 [00:00<?, ?it/s]"
      ]
     },
     "metadata": {},
     "output_type": "display_data"
    },
    {
     "data": {
      "application/vnd.jupyter.widget-view+json": {
       "model_id": "989b789505c04a89b2782310f6f7adec",
       "version_major": 2,
       "version_minor": 0
      },
      "text/plain": [
       "  0%|          | 0/40 [00:00<?, ?it/s]"
      ]
     },
     "metadata": {},
     "output_type": "display_data"
    },
    {
     "data": {
      "application/vnd.jupyter.widget-view+json": {
       "model_id": "d9053932bed54d9c9ac5bbb5e25df1e9",
       "version_major": 2,
       "version_minor": 0
      },
      "text/plain": [
       "  0%|          | 0/40 [00:00<?, ?it/s]"
      ]
     },
     "metadata": {},
     "output_type": "display_data"
    },
    {
     "data": {
      "application/vnd.jupyter.widget-view+json": {
       "model_id": "0e730031b1424c968cdf0a074f928763",
       "version_major": 2,
       "version_minor": 0
      },
      "text/plain": [
       "  0%|          | 0/40 [00:00<?, ?it/s]"
      ]
     },
     "metadata": {},
     "output_type": "display_data"
    },
    {
     "data": {
      "application/vnd.jupyter.widget-view+json": {
       "model_id": "8c2498edf2264aa18895e2e0a8c7d12e",
       "version_major": 2,
       "version_minor": 0
      },
      "text/plain": [
       "  0%|          | 0/40 [00:00<?, ?it/s]"
      ]
     },
     "metadata": {},
     "output_type": "display_data"
    },
    {
     "data": {
      "application/vnd.jupyter.widget-view+json": {
       "model_id": "a7f3425714f94b5eabe5fcec13fc3ca8",
       "version_major": 2,
       "version_minor": 0
      },
      "text/plain": [
       "  0%|          | 0/40 [00:00<?, ?it/s]"
      ]
     },
     "metadata": {},
     "output_type": "display_data"
    },
    {
     "data": {
      "application/vnd.jupyter.widget-view+json": {
       "model_id": "fbf6adf9170c4b08830e3fd9b80a64bf",
       "version_major": 2,
       "version_minor": 0
      },
      "text/plain": [
       "  0%|          | 0/40 [00:00<?, ?it/s]"
      ]
     },
     "metadata": {},
     "output_type": "display_data"
    },
    {
     "data": {
      "application/vnd.jupyter.widget-view+json": {
       "model_id": "62232067985d410e8d4cd9891a4e5472",
       "version_major": 2,
       "version_minor": 0
      },
      "text/plain": [
       "  0%|          | 0/40 [00:00<?, ?it/s]"
      ]
     },
     "metadata": {},
     "output_type": "display_data"
    },
    {
     "data": {
      "application/vnd.jupyter.widget-view+json": {
       "model_id": "9fe64ebd052542cc81561aa13868a336",
       "version_major": 2,
       "version_minor": 0
      },
      "text/plain": [
       "  0%|          | 0/40 [00:00<?, ?it/s]"
      ]
     },
     "metadata": {},
     "output_type": "display_data"
    },
    {
     "data": {
      "application/vnd.jupyter.widget-view+json": {
       "model_id": "fa2fe0feccc1426982aeb55f4c3526ad",
       "version_major": 2,
       "version_minor": 0
      },
      "text/plain": [
       "  0%|          | 0/40 [00:00<?, ?it/s]"
      ]
     },
     "metadata": {},
     "output_type": "display_data"
    },
    {
     "data": {
      "application/vnd.jupyter.widget-view+json": {
       "model_id": "b0e0983bdd9d48aea30d93fc5aa4e123",
       "version_major": 2,
       "version_minor": 0
      },
      "text/plain": [
       "  0%|          | 0/40 [00:00<?, ?it/s]"
      ]
     },
     "metadata": {},
     "output_type": "display_data"
    },
    {
     "data": {
      "application/vnd.jupyter.widget-view+json": {
       "model_id": "33a93f13677d4404b889ac64831c8bea",
       "version_major": 2,
       "version_minor": 0
      },
      "text/plain": [
       "  0%|          | 0/40 [00:00<?, ?it/s]"
      ]
     },
     "metadata": {},
     "output_type": "display_data"
    }
   ],
   "source": [
    "for lr in LRS:\n",
    "    OPTIMIZERS = [\n",
    "        SGD(lr),\n",
    "        Momentum(lr, momentum=0.9),\n",
    "        Nesterov(lr, momentum=0.9),\n",
    "        AdaGrad(lr),\n",
    "        RMSprop(lr, decay=0.9),\n",
    "        Adam(lr, beta1=0.9, beta2=0.99),\n",
    "    ]\n",
    "    for arch_name, layers in zip(LAYER_NAMES, LAYERS):\n",
    "        for optim in OPTIMIZERS:\n",
    "            model = Model(\n",
    "                layers=deepcopy(layers),\n",
    "                cost=MSE(),\n",
    "                optimizer=deepcopy(optim),\n",
    "            )\n",
    "            train_result = model.train(\n",
    "                train_loader, test_loader, EPOCHS, num_samples=10_000, verbose=100\n",
    "            )\n",
    "            train_accs, train_losses, test_accs, test_losses, times = train_result\n",
    "            memory = model.optimizer.__sizeof__()\n",
    "            df = df.append(\n",
    "                {\n",
    "                    'optim': optim.__class__.__name__,\n",
    "                    'arch': arch_name,\n",
    "                    'dataset': DATASET_NAME,\n",
    "                    'epochs': EPOCHS,\n",
    "                    'best_epoch': np.argmin(test_losses),\n",
    "                    'lr': lr,\n",
    "                    'time': np.mean(times),\n",
    "                    'memory': memory,\n",
    "                    'best_accuracy': np.max(test_accs),\n",
    "                    'best_loss': np.min(test_losses),\n",
    "                    'train_accuracies': train_accs,\n",
    "                    'train_losses': train_losses,\n",
    "                    'test_accuracies': test_accs,\n",
    "                    'test_losses': test_losses,\n",
    "                },\n",
    "                ignore_index=True,\n",
    "            )"
   ]
  },
  {
   "cell_type": "code",
   "execution_count": 247,
   "id": "750f974a",
   "metadata": {},
   "outputs": [],
   "source": [
    "df.to_csv('results.csv', index=False)"
   ]
  },
  {
   "cell_type": "code",
   "execution_count": 248,
   "id": "dd217f6b",
   "metadata": {},
   "outputs": [],
   "source": [
    "styles = [\n",
    "    (5, (10, 3)),\n",
    "    ':',\n",
    "    '--',\n",
    "    '-.',\n",
    "    '-',\n",
    "    (0, (3, 1, 1, 1, 1, 1)),\n",
    "]"
   ]
  },
  {
   "cell_type": "code",
   "execution_count": 250,
   "id": "4840d48d",
   "metadata": {},
   "outputs": [
    {
     "data": {
      "text/plain": [
       "['784-256-128-64-10', '784-100-100-10', '784-100-10']"
      ]
     },
     "execution_count": 250,
     "metadata": {},
     "output_type": "execute_result"
    }
   ],
   "source": [
    "list(set(names))"
   ]
  },
  {
   "cell_type": "code",
   "execution_count": 262,
   "id": "604fbfff",
   "metadata": {
    "scrolled": true
   },
   "outputs": [
    {
     "data": {
      "text/html": [
       "<div>\n",
       "<style scoped>\n",
       "    .dataframe tbody tr th:only-of-type {\n",
       "        vertical-align: middle;\n",
       "    }\n",
       "\n",
       "    .dataframe tbody tr th {\n",
       "        vertical-align: top;\n",
       "    }\n",
       "\n",
       "    .dataframe thead th {\n",
       "        text-align: right;\n",
       "    }\n",
       "</style>\n",
       "<table border=\"1\" class=\"dataframe\">\n",
       "  <thead>\n",
       "    <tr style=\"text-align: right;\">\n",
       "      <th></th>\n",
       "      <th>optim</th>\n",
       "      <th>dataset</th>\n",
       "      <th>epochs</th>\n",
       "      <th>best_epoch</th>\n",
       "      <th>lr</th>\n",
       "      <th>time</th>\n",
       "      <th>memory</th>\n",
       "      <th>best_accuracy</th>\n",
       "      <th>best_loss</th>\n",
       "      <th>train_accuracies</th>\n",
       "      <th>train_losses</th>\n",
       "      <th>test_accuracies</th>\n",
       "      <th>test_losses</th>\n",
       "      <th>arch</th>\n",
       "    </tr>\n",
       "  </thead>\n",
       "  <tbody>\n",
       "    <tr>\n",
       "      <th>0</th>\n",
       "      <td>SGD</td>\n",
       "      <td>MNIST</td>\n",
       "      <td>40</td>\n",
       "      <td>79</td>\n",
       "      <td>0.001</td>\n",
       "      <td>0.000088</td>\n",
       "      <td>0</td>\n",
       "      <td>0.722656</td>\n",
       "      <td>0.028505</td>\n",
       "      <td>[0.09375, 0.140625, 0.1875, 0.234375, 0.296875...</td>\n",
       "      <td>[0.292534451307277, 0.04888752817402784, 0.047...</td>\n",
       "      <td>[0.096484375, 0.1353515625, 0.1521484375, 0.16...</td>\n",
       "      <td>[0.2729138012984686, 0.05182411264641985, 0.05...</td>\n",
       "      <td>784-100-10</td>\n",
       "    </tr>\n",
       "    <tr>\n",
       "      <th>1</th>\n",
       "      <td>Momentum</td>\n",
       "      <td>MNIST</td>\n",
       "      <td>40</td>\n",
       "      <td>79</td>\n",
       "      <td>0.001</td>\n",
       "      <td>0.000156</td>\n",
       "      <td>636528</td>\n",
       "      <td>0.846875</td>\n",
       "      <td>0.020697</td>\n",
       "      <td>[0.765625, 0.734375, 0.703125, 0.75, 0.8125, 0...</td>\n",
       "      <td>[0.027256619149800786, 0.02735691223701061, 0....</td>\n",
       "      <td>[0.7171875, 0.72890625, 0.740625, 0.7435546875...</td>\n",
       "      <td>[0.028458748817765535, 0.02768803738005391, 0....</td>\n",
       "      <td>784-100-10</td>\n",
       "    </tr>\n",
       "    <tr>\n",
       "      <th>2</th>\n",
       "      <td>Nesterov</td>\n",
       "      <td>MNIST</td>\n",
       "      <td>40</td>\n",
       "      <td>79</td>\n",
       "      <td>0.001</td>\n",
       "      <td>0.003940</td>\n",
       "      <td>1273056</td>\n",
       "      <td>0.861328</td>\n",
       "      <td>0.018413</td>\n",
       "      <td>[0.875, 0.8125, 0.90625, 0.828125, 0.875, 0.81...</td>\n",
       "      <td>[0.016729052350943092, 0.01909286634726819, 0....</td>\n",
       "      <td>[0.8458984375, 0.8478515625, 0.8419921875, 0.8...</td>\n",
       "      <td>[0.02069912860482261, 0.020660426048646867, 0....</td>\n",
       "      <td>784-100-10</td>\n",
       "    </tr>\n",
       "    <tr>\n",
       "      <th>3</th>\n",
       "      <td>AdaGrad</td>\n",
       "      <td>MNIST</td>\n",
       "      <td>40</td>\n",
       "      <td>79</td>\n",
       "      <td>0.001</td>\n",
       "      <td>0.000241</td>\n",
       "      <td>636528</td>\n",
       "      <td>0.889648</td>\n",
       "      <td>0.014808</td>\n",
       "      <td>[0.90625, 0.859375, 0.8125, 0.765625, 0.875, 0...</td>\n",
       "      <td>[0.01670702841693385, 0.017991489193666537, 0....</td>\n",
       "      <td>[0.694921875, 0.854296875, 0.8533203125, 0.858...</td>\n",
       "      <td>[0.04508614357646304, 0.01818659294505041, 0.0...</td>\n",
       "      <td>784-100-10</td>\n",
       "    </tr>\n",
       "    <tr>\n",
       "      <th>4</th>\n",
       "      <td>RMSprop</td>\n",
       "      <td>MNIST</td>\n",
       "      <td>40</td>\n",
       "      <td>78</td>\n",
       "      <td>0.001</td>\n",
       "      <td>0.000292</td>\n",
       "      <td>636528</td>\n",
       "      <td>0.954883</td>\n",
       "      <td>0.005910</td>\n",
       "      <td>[0.921875, 0.890625, 0.796875, 0.90625, 0.9218...</td>\n",
       "      <td>[0.0123396068177394, 0.01660199708035249, 0.02...</td>\n",
       "      <td>[0.4583984375, 0.8533203125, 0.8697265625, 0.8...</td>\n",
       "      <td>[0.24351416216411642, 0.017170592703176252, 0....</td>\n",
       "      <td>784-100-10</td>\n",
       "    </tr>\n",
       "    <tr>\n",
       "      <th>5</th>\n",
       "      <td>Adam</td>\n",
       "      <td>MNIST</td>\n",
       "      <td>40</td>\n",
       "      <td>79</td>\n",
       "      <td>0.001</td>\n",
       "      <td>0.000820</td>\n",
       "      <td>1273056</td>\n",
       "      <td>0.967578</td>\n",
       "      <td>0.004994</td>\n",
       "      <td>[0.921875, 0.96875, 0.96875, 0.953125, 0.95312...</td>\n",
       "      <td>[0.006550555888184009, 0.00490205453362354, 0....</td>\n",
       "      <td>[0.948046875, 0.9470703125, 0.95, 0.9490234375...</td>\n",
       "      <td>[0.00647862050860327, 0.006039235592454322, 0....</td>\n",
       "      <td>784-100-10</td>\n",
       "    </tr>\n",
       "  </tbody>\n",
       "</table>\n",
       "</div>"
      ],
      "text/plain": [
       "      optim dataset epochs best_epoch     lr      time   memory  \\\n",
       "0       SGD   MNIST     40         79  0.001  0.000088        0   \n",
       "1  Momentum   MNIST     40         79  0.001  0.000156   636528   \n",
       "2  Nesterov   MNIST     40         79  0.001  0.003940  1273056   \n",
       "3   AdaGrad   MNIST     40         79  0.001  0.000241   636528   \n",
       "4   RMSprop   MNIST     40         78  0.001  0.000292   636528   \n",
       "5      Adam   MNIST     40         79  0.001  0.000820  1273056   \n",
       "\n",
       "   best_accuracy  best_loss  \\\n",
       "0       0.722656   0.028505   \n",
       "1       0.846875   0.020697   \n",
       "2       0.861328   0.018413   \n",
       "3       0.889648   0.014808   \n",
       "4       0.954883   0.005910   \n",
       "5       0.967578   0.004994   \n",
       "\n",
       "                                    train_accuracies  \\\n",
       "0  [0.09375, 0.140625, 0.1875, 0.234375, 0.296875...   \n",
       "1  [0.765625, 0.734375, 0.703125, 0.75, 0.8125, 0...   \n",
       "2  [0.875, 0.8125, 0.90625, 0.828125, 0.875, 0.81...   \n",
       "3  [0.90625, 0.859375, 0.8125, 0.765625, 0.875, 0...   \n",
       "4  [0.921875, 0.890625, 0.796875, 0.90625, 0.9218...   \n",
       "5  [0.921875, 0.96875, 0.96875, 0.953125, 0.95312...   \n",
       "\n",
       "                                        train_losses  \\\n",
       "0  [0.292534451307277, 0.04888752817402784, 0.047...   \n",
       "1  [0.027256619149800786, 0.02735691223701061, 0....   \n",
       "2  [0.016729052350943092, 0.01909286634726819, 0....   \n",
       "3  [0.01670702841693385, 0.017991489193666537, 0....   \n",
       "4  [0.0123396068177394, 0.01660199708035249, 0.02...   \n",
       "5  [0.006550555888184009, 0.00490205453362354, 0....   \n",
       "\n",
       "                                     test_accuracies  \\\n",
       "0  [0.096484375, 0.1353515625, 0.1521484375, 0.16...   \n",
       "1  [0.7171875, 0.72890625, 0.740625, 0.7435546875...   \n",
       "2  [0.8458984375, 0.8478515625, 0.8419921875, 0.8...   \n",
       "3  [0.694921875, 0.854296875, 0.8533203125, 0.858...   \n",
       "4  [0.4583984375, 0.8533203125, 0.8697265625, 0.8...   \n",
       "5  [0.948046875, 0.9470703125, 0.95, 0.9490234375...   \n",
       "\n",
       "                                         test_losses        arch  \n",
       "0  [0.2729138012984686, 0.05182411264641985, 0.05...  784-100-10  \n",
       "1  [0.028458748817765535, 0.02768803738005391, 0....  784-100-10  \n",
       "2  [0.02069912860482261, 0.020660426048646867, 0....  784-100-10  \n",
       "3  [0.04508614357646304, 0.01818659294505041, 0.0...  784-100-10  \n",
       "4  [0.24351416216411642, 0.017170592703176252, 0....  784-100-10  \n",
       "5  [0.00647862050860327, 0.006039235592454322, 0....  784-100-10  "
      ]
     },
     "execution_count": 262,
     "metadata": {},
     "output_type": "execute_result"
    }
   ],
   "source": [
    "df[(df.arch == '784-100-10') & (df.lr == 0.001)]"
   ]
  },
  {
   "cell_type": "code",
   "execution_count": 578,
   "id": "28177214",
   "metadata": {},
   "outputs": [],
   "source": [
    "def smooth(scalars, weight: float):  # Weight between 0 and 1\n",
    "    last = scalars[0]  # First value in the plot (first timestep)\n",
    "    smoothed = list()\n",
    "    for point in scalars:\n",
    "        smoothed_val = last * weight + (1 - weight) * point  # Calculate smoothed value\n",
    "        smoothed.append(smoothed_val)                        # Save it\n",
    "        last = smoothed_val                                  # Anchor the last smoothed value\n",
    "        \n",
    "    return smoothed"
   ]
  },
  {
   "cell_type": "code",
   "execution_count": 264,
   "id": "740cecb4",
   "metadata": {},
   "outputs": [
    {
     "data": {
      "text/plain": [
       "['784-100-10', '784-100-100-10', '784-256-128-64-10']"
      ]
     },
     "execution_count": 264,
     "metadata": {},
     "output_type": "execute_result"
    }
   ],
   "source": [
    "LAYER_NAMES"
   ]
  },
  {
   "cell_type": "code",
   "execution_count": 590,
   "id": "41664e6f",
   "metadata": {},
   "outputs": [],
   "source": [
    "\n",
    "ARCH = '784-100-10'\n",
    "# ARCH = '784-256-128-64-10'"
   ]
  },
  {
   "cell_type": "code",
   "execution_count": 591,
   "id": "b8dc77c8",
   "metadata": {},
   "outputs": [
    {
     "data": {
      "text/plain": [
       "[0.001, 0.01, 0.1, 1]"
      ]
     },
     "execution_count": 591,
     "metadata": {},
     "output_type": "execute_result"
    }
   ],
   "source": [
    "LRS"
   ]
  },
  {
   "cell_type": "code",
   "execution_count": 592,
   "id": "d68942a8",
   "metadata": {},
   "outputs": [],
   "source": [
    "LR = 0.001"
   ]
  },
  {
   "cell_type": "code",
   "execution_count": 646,
   "id": "a952866c",
   "metadata": {},
   "outputs": [],
   "source": [
    "# subdf = df[(df.arch == ARCH) & (df.lr == LR)]\n",
    "subdf = df[df.dataset == 'FashionMNIST']"
   ]
  },
  {
   "cell_type": "code",
   "execution_count": 618,
   "id": "2f908599",
   "metadata": {},
   "outputs": [
    {
     "data": {
      "text/plain": [
       "optim\n",
       "AdaGrad     0.977930\n",
       "Adam        0.975130\n",
       "Momentum    0.975130\n",
       "Nesterov    0.975781\n",
       "RMSprop     0.965365\n",
       "SGD         0.973177\n",
       "Name: best_accuracy, dtype: float64"
      ]
     },
     "execution_count": 618,
     "metadata": {},
     "output_type": "execute_result"
    }
   ],
   "source": [
    "df.groupby(['optim', 'arch'])['best_accuracy'].max().groupby('optim').mean()"
   ]
  },
  {
   "cell_type": "code",
   "execution_count": 594,
   "id": "b2ab1d45",
   "metadata": {},
   "outputs": [],
   "source": [
    "# subdf = df[(df.arch == ARCH) & (df.optim=='Adam')]"
   ]
  },
  {
   "cell_type": "code",
   "execution_count": 648,
   "id": "b8330de9",
   "metadata": {
    "scrolled": true
   },
   "outputs": [
    {
     "data": {
      "image/png": "[encoded data removed]",
      "text/plain": [
       "<Figure size 1800x720 with 2 Axes>"
      ]
     },
     "metadata": {
      "needs_background": "light"
     },
     "output_type": "display_data"
    }
   ],
   "source": [
    "part = 'test'\n",
    "SWITCH = 0\n",
    "figsize = (25, 10)\n",
    "fig, axs = plt.subplots(1, 2, figsize=figsize)\n",
    "# axs = axs.ravel()\n",
    "names = subdf.optim.values.copy()\n",
    "f = True\n",
    "plt.rcParams['font.size'] = '16'\n",
    "for name, style in zip(names, styles):\n",
    "    axs[SWITCH-0].plot(smooth(subdf[subdf.optim == name][f'{part}_accuracies'].values[0], 0.7), linestyle=style)\n",
    "    axs[SWITCH-0].legend(names, prop={'size': 15})\n",
    "    axs[SWITCH-0].set(ylabel='Accuracy')\n",
    "    axs[SWITCH-1].plot(smooth(subdf[subdf.optim == name][f'{part}_losses'].values[0], 0.5), linestyle=style)\n",
    "    axs[SWITCH-1].set(ylabel='Loss')\n",
    "    axs[SWITCH-1].legend(names, prop={'size': 15})\n",
    "\n",
    "# lr_legend = plt.legend('lr', loc=4)\n",
    "plt.savefig('3_layer_001_lr_fm', dpi=200)"
   ]
  },
  {
   "cell_type": "code",
   "execution_count": 649,
   "id": "ca017105",
   "metadata": {},
   "outputs": [],
   "source": [
    "COLS = ['optim', 'time', 'best_accuracy', 'best_loss']"
   ]
  },
  {
   "cell_type": "code",
   "execution_count": 650,
   "id": "7db98737",
   "metadata": {},
   "outputs": [
    {
     "data": {
      "text/html": [
       "<div>\n",
       "<style scoped>\n",
       "    .dataframe tbody tr th:only-of-type {\n",
       "        vertical-align: middle;\n",
       "    }\n",
       "\n",
       "    .dataframe tbody tr th {\n",
       "        vertical-align: top;\n",
       "    }\n",
       "\n",
       "    .dataframe thead th {\n",
       "        text-align: right;\n",
       "    }\n",
       "</style>\n",
       "<table border=\"1\" class=\"dataframe\">\n",
       "  <thead>\n",
       "    <tr style=\"text-align: right;\">\n",
       "      <th></th>\n",
       "      <th>optim</th>\n",
       "      <th>time</th>\n",
       "      <th>best_accuracy</th>\n",
       "      <th>best_loss</th>\n",
       "    </tr>\n",
       "  </thead>\n",
       "  <tbody>\n",
       "    <tr>\n",
       "      <th>72</th>\n",
       "      <td>SGD</td>\n",
       "      <td>0.000189</td>\n",
       "      <td>0.119141</td>\n",
       "      <td>0.045077</td>\n",
       "    </tr>\n",
       "    <tr>\n",
       "      <th>73</th>\n",
       "      <td>Momentum</td>\n",
       "      <td>0.000352</td>\n",
       "      <td>0.118164</td>\n",
       "      <td>0.044989</td>\n",
       "    </tr>\n",
       "    <tr>\n",
       "      <th>74</th>\n",
       "      <td>Nesterov</td>\n",
       "      <td>0.008778</td>\n",
       "      <td>0.118164</td>\n",
       "      <td>0.044984</td>\n",
       "    </tr>\n",
       "    <tr>\n",
       "      <th>75</th>\n",
       "      <td>AdaGrad</td>\n",
       "      <td>0.000560</td>\n",
       "      <td>0.503125</td>\n",
       "      <td>0.032790</td>\n",
       "    </tr>\n",
       "    <tr>\n",
       "      <th>76</th>\n",
       "      <td>RMSprop</td>\n",
       "      <td>0.000692</td>\n",
       "      <td>0.808984</td>\n",
       "      <td>0.013851</td>\n",
       "    </tr>\n",
       "    <tr>\n",
       "      <th>77</th>\n",
       "      <td>Adam</td>\n",
       "      <td>0.002131</td>\n",
       "      <td>0.864258</td>\n",
       "      <td>0.010202</td>\n",
       "    </tr>\n",
       "  </tbody>\n",
       "</table>\n",
       "</div>"
      ],
      "text/plain": [
       "       optim      time  best_accuracy  best_loss\n",
       "72       SGD  0.000189       0.119141   0.045077\n",
       "73  Momentum  0.000352       0.118164   0.044989\n",
       "74  Nesterov  0.008778       0.118164   0.044984\n",
       "75   AdaGrad  0.000560       0.503125   0.032790\n",
       "76   RMSprop  0.000692       0.808984   0.013851\n",
       "77      Adam  0.002131       0.864258   0.010202"
      ]
     },
     "execution_count": 650,
     "metadata": {},
     "output_type": "execute_result"
    }
   ],
   "source": [
    "subdf[COLS]"
   ]
  },
  {
   "cell_type": "code",
   "execution_count": 533,
   "id": "a4ec3385",
   "metadata": {},
   "outputs": [],
   "source": [
    "def calc_params(model):\n",
    "    # учитываем только полносвязные слои\n",
    "    layers = [l for l in model.layers if type(l) == Linear]\n",
    "    params = 0\n",
    "    # обход слоев\n",
    "    for layer in layers:\n",
    "        # получаем кол-во входных и выходных нейронов\n",
    "        in_p, out_p = layer.w.shape\n",
    "        # перемножаем in_p и out_p, получая размер матрицы w\n",
    "        # out_p - размер порога b\n",
    "        params += in_p * out_p + out_p\n",
    "    return params"
   ]
  },
  {
   "cell_type": "code",
   "execution_count": 538,
   "id": "2521bef3",
   "metadata": {},
   "outputs": [],
   "source": [
    "model_params = [\n",
    "    calc_params(Model(layers, MSE(), SGD())) for layers in LAYERS\n",
    "]"
   ]
  },
  {
   "cell_type": "code",
   "execution_count": 539,
   "id": "68d4186a",
   "metadata": {},
   "outputs": [
    {
     "data": {
      "text/plain": [
       "[79510, 89610, 242762]"
      ]
     },
     "execution_count": 539,
     "metadata": {},
     "output_type": "execute_result"
    }
   ],
   "source": [
    "model_params"
   ]
  },
  {
   "cell_type": "code",
   "execution_count": 542,
   "id": "445fc5a8",
   "metadata": {
    "scrolled": false
   },
   "outputs": [
    {
     "data": {
      "text/plain": [
       "1.1270280467865676"
      ]
     },
     "execution_count": 542,
     "metadata": {},
     "output_type": "execute_result"
    }
   ],
   "source": [
    "model_params[1] / model_params[0]"
   ]
  },
  {
   "cell_type": "code",
   "execution_count": 619,
   "id": "3f50d565",
   "metadata": {},
   "outputs": [],
   "source": [
    "train_dataset = datasets.FashionMNIST(root='data', train=True, download=True, transform=transforms, target_transform=target_transoforms)\n",
    "train_loader = DataLoader(train_dataset, batch_size=64, shuffle=True)\n",
    "test_dataset = datasets.FashionMNIST(root='data', train=False, download=True, transform=transforms, target_transform=target_transoforms)\n",
    "test_loader = DataLoader(\n",
    "    Subset(test_dataset, np.arange(1_000)), batch_size=64, shuffle=False)"
   ]
  },
  {
   "cell_type": "code",
   "execution_count": 623,
   "id": "1c30c3d6",
   "metadata": {},
   "outputs": [],
   "source": [
    "DATASET_NAME = train_dataset.__class__.__name__"
   ]
  },
  {
   "cell_type": "code",
   "execution_count": 620,
   "id": "082fe16f",
   "metadata": {},
   "outputs": [],
   "source": [
    "lr = 0.01\n",
    "OPTIMIZERS = [\n",
    "    SGD(lr),\n",
    "    Momentum(lr, momentum=0.9),\n",
    "    Nesterov(lr, momentum=0.9),\n",
    "    AdaGrad(lr),\n",
    "    RMSprop(lr, decay=0.9),\n",
    "    Adam(lr, beta1=0.9, beta2=0.99),\n",
    "]"
   ]
  },
  {
   "cell_type": "code",
   "execution_count": 634,
   "id": "50eca6d6",
   "metadata": {},
   "outputs": [],
   "source": [
    "optim = Adam(lr, beta1=0.9, beta2=0.99)"
   ]
  },
  {
   "cell_type": "code",
   "execution_count": 624,
   "id": "906301b2",
   "metadata": {},
   "outputs": [],
   "source": [
    "layers = LAYERS[-1]\n",
    "arch_name = LAYER_NAMES[-1]"
   ]
  },
  {
   "cell_type": "code",
   "execution_count": 644,
   "id": "a55a12eb",
   "metadata": {},
   "outputs": [
    {
     "data": {
      "application/vnd.jupyter.widget-view+json": {
       "model_id": "062bfd44955549ca839bad177a978c51",
       "version_major": 2,
       "version_minor": 0
      },
      "text/plain": [
       "  0%|          | 0/40 [00:00<?, ?it/s]"
      ]
     },
     "metadata": {},
     "output_type": "display_data"
    },
    {
     "data": {
      "application/vnd.jupyter.widget-view+json": {
       "model_id": "15c6b8745e924db9b940788167cab0f8",
       "version_major": 2,
       "version_minor": 0
      },
      "text/plain": [
       "  0%|          | 0/40 [00:00<?, ?it/s]"
      ]
     },
     "metadata": {},
     "output_type": "display_data"
    },
    {
     "data": {
      "application/vnd.jupyter.widget-view+json": {
       "model_id": "8ee32c1ce475479f96337d25e0c96ec6",
       "version_major": 2,
       "version_minor": 0
      },
      "text/plain": [
       "  0%|          | 0/40 [00:00<?, ?it/s]"
      ]
     },
     "metadata": {},
     "output_type": "display_data"
    },
    {
     "data": {
      "application/vnd.jupyter.widget-view+json": {
       "model_id": "7056f401eef949339dc62127aa15b2af",
       "version_major": 2,
       "version_minor": 0
      },
      "text/plain": [
       "  0%|          | 0/40 [00:00<?, ?it/s]"
      ]
     },
     "metadata": {},
     "output_type": "display_data"
    },
    {
     "data": {
      "application/vnd.jupyter.widget-view+json": {
       "model_id": "b3a4eb381988464899a0cd191b383541",
       "version_major": 2,
       "version_minor": 0
      },
      "text/plain": [
       "  0%|          | 0/40 [00:00<?, ?it/s]"
      ]
     },
     "metadata": {},
     "output_type": "display_data"
    },
    {
     "data": {
      "application/vnd.jupyter.widget-view+json": {
       "model_id": "0d862d3993d04e2f966577810f6149fc",
       "version_major": 2,
       "version_minor": 0
      },
      "text/plain": [
       "  0%|          | 0/40 [00:00<?, ?it/s]"
      ]
     },
     "metadata": {},
     "output_type": "display_data"
    }
   ],
   "source": [
    "for optim in OPTIMIZERS:\n",
    "    model = Model(\n",
    "        layers=deepcopy(layers),\n",
    "        cost=MSE(),\n",
    "        optimizer=deepcopy(optim),\n",
    "    )\n",
    "    train_result = model.train(\n",
    "        train_loader, test_loader, EPOCHS, num_samples=10_000, verbose=100\n",
    "    )\n",
    "    train_accs, train_losses, test_accs, test_losses, times = train_result\n",
    "    memory = model.optimizer.__sizeof__()\n",
    "    df = df.append(\n",
    "        {\n",
    "            'optim': optim.__class__.__name__,\n",
    "            'arch': arch_name,\n",
    "            'dataset': DATASET_NAME,\n",
    "            'epochs': EPOCHS,\n",
    "            'best_epoch': np.argmin(test_losses),\n",
    "            'lr': lr,\n",
    "            'time': np.mean(times),\n",
    "            'memory': memory,\n",
    "            'best_accuracy': np.max(test_accs),\n",
    "            'best_loss': np.min(test_losses),\n",
    "            'train_accuracies': train_accs,\n",
    "            'train_losses': train_losses,\n",
    "            'test_accuracies': test_accs,\n",
    "            'test_losses': test_losses,\n",
    "        },\n",
    "        ignore_index=True,\n",
    "    )"
   ]
  },
  {
   "cell_type": "code",
   "execution_count": 635,
   "id": "e4b2ecb7",
   "metadata": {},
   "outputs": [],
   "source": [
    "model = Model(\n",
    "    layers=deepcopy(layers),\n",
    "    cost=MSE(),\n",
    "    optimizer=deepcopy(optim),\n",
    ")"
   ]
  },
  {
   "cell_type": "code",
   "execution_count": 636,
   "id": "b846a692",
   "metadata": {},
   "outputs": [
    {
     "data": {
      "application/vnd.jupyter.widget-view+json": {
       "model_id": "f269a162f0cd4efea7fd2e0e2ae0a47e",
       "version_major": 2,
       "version_minor": 0
      },
      "text/plain": [
       "  0%|          | 0/40 [00:00<?, ?it/s]"
      ]
     },
     "metadata": {},
     "output_type": "display_data"
    }
   ],
   "source": [
    "train_result = model.train(\n",
    "    train_loader, test_loader, EPOCHS, num_samples=10_000, verbose=100\n",
    ")"
   ]
  },
  {
   "cell_type": "code",
   "execution_count": 638,
   "id": "e0043f0c",
   "metadata": {},
   "outputs": [],
   "source": [
    "train_accs, train_losses, test_accs, test_losses, times = train_result"
   ]
  }
 ],
 "metadata": {
  "kernelspec": {
   "display_name": "Python 3",
   "language": "python",
   "name": "python3"
  },
  "language_info": {
   "codemirror_mode": {
    "name": "ipython",
    "version": 3
   },
   "file_extension": ".py",
   "mimetype": "text/x-python",
   "name": "python",
   "nbconvert_exporter": "python",
   "pygments_lexer": "ipython3",
   "version": "3.7.10"
  }
 },
 "nbformat": 4,
 "nbformat_minor": 5
}
